{
  "cells": [
    {
      "cell_type": "code",
      "execution_count": null,
      "metadata": {
        "colab": {
          "base_uri": "https://localhost:8080/",
          "height": 37
        },
        "id": "I3X1dRawK2NN",
        "outputId": "6037bcfc-68b7-4138-ba76-f37cf8672faa"
      },
      "outputs": [
        {
          "data": {
            "application/vnd.google.colaboratory.intrinsic+json": {
              "type": "string"
            },
            "text/plain": [
              "'cuda'"
            ]
          },
          "execution_count": 1,
          "metadata": {},
          "output_type": "execute_result"
        }
      ],
      "source": [
        "import torch\n",
        "from torch import nn, Tensor\n",
        "import numpy as np\n",
        "from torchvision.utils import save_image\n",
        "\n",
        "device = \"cuda\" if torch.cuda.is_available() else \"cpu\"\n",
        "device"
      ]
    },
    {
      "cell_type": "markdown",
      "metadata": {
        "id": "G4mbRqp6K_GX"
      },
      "source": [
        "#1. Dataset"
      ]
    },
    {
      "cell_type": "code",
      "execution_count": null,
      "metadata": {
        "colab": {
          "base_uri": "https://localhost:8080/"
        },
        "id": "pabpV8nnK-Aj",
        "outputId": "0f5977b0-0833-4593-da3a-8ed1b45df5ad"
      },
      "outputs": [
        {
          "name": "stdout",
          "output_type": "stream",
          "text": [
            "Downloading http://yann.lecun.com/exdb/mnist/train-images-idx3-ubyte.gz\n",
            "Downloading http://yann.lecun.com/exdb/mnist/train-images-idx3-ubyte.gz to ./mnist_data/MNIST/raw/train-images-idx3-ubyte.gz\n"
          ]
        },
        {
          "name": "stderr",
          "output_type": "stream",
          "text": [
            "100%|██████████| 9912422/9912422 [00:00<00:00, 168864176.81it/s]"
          ]
        },
        {
          "name": "stdout",
          "output_type": "stream",
          "text": [
            "Extracting ./mnist_data/MNIST/raw/train-images-idx3-ubyte.gz to ./mnist_data/MNIST/raw\n"
          ]
        },
        {
          "name": "stderr",
          "output_type": "stream",
          "text": [
            "\n"
          ]
        },
        {
          "name": "stdout",
          "output_type": "stream",
          "text": [
            "\n",
            "Downloading http://yann.lecun.com/exdb/mnist/train-labels-idx1-ubyte.gz\n",
            "Downloading http://yann.lecun.com/exdb/mnist/train-labels-idx1-ubyte.gz to ./mnist_data/MNIST/raw/train-labels-idx1-ubyte.gz\n"
          ]
        },
        {
          "name": "stderr",
          "output_type": "stream",
          "text": [
            "100%|██████████| 28881/28881 [00:00<00:00, 35071133.13it/s]\n"
          ]
        },
        {
          "name": "stdout",
          "output_type": "stream",
          "text": [
            "Extracting ./mnist_data/MNIST/raw/train-labels-idx1-ubyte.gz to ./mnist_data/MNIST/raw\n",
            "\n",
            "Downloading http://yann.lecun.com/exdb/mnist/t10k-images-idx3-ubyte.gz\n",
            "Downloading http://yann.lecun.com/exdb/mnist/t10k-images-idx3-ubyte.gz to ./mnist_data/MNIST/raw/t10k-images-idx3-ubyte.gz\n"
          ]
        },
        {
          "name": "stderr",
          "output_type": "stream",
          "text": [
            "100%|██████████| 1648877/1648877 [00:00<00:00, 60031695.05it/s]"
          ]
        },
        {
          "name": "stdout",
          "output_type": "stream",
          "text": [
            "Extracting ./mnist_data/MNIST/raw/t10k-images-idx3-ubyte.gz to ./mnist_data/MNIST/raw\n"
          ]
        },
        {
          "name": "stderr",
          "output_type": "stream",
          "text": [
            "\n"
          ]
        },
        {
          "name": "stdout",
          "output_type": "stream",
          "text": [
            "\n",
            "Downloading http://yann.lecun.com/exdb/mnist/t10k-labels-idx1-ubyte.gz\n",
            "Downloading http://yann.lecun.com/exdb/mnist/t10k-labels-idx1-ubyte.gz to ./mnist_data/MNIST/raw/t10k-labels-idx1-ubyte.gz\n"
          ]
        },
        {
          "name": "stderr",
          "output_type": "stream",
          "text": [
            "100%|██████████| 4542/4542 [00:00<00:00, 5474289.88it/s]\n"
          ]
        },
        {
          "name": "stdout",
          "output_type": "stream",
          "text": [
            "Extracting ./mnist_data/MNIST/raw/t10k-labels-idx1-ubyte.gz to ./mnist_data/MNIST/raw\n",
            "\n"
          ]
        }
      ],
      "source": [
        "import torchvision\n",
        "\n",
        "img_size = 32\n",
        "\n",
        "transform = torchvision.transforms.Compose([\n",
        "    torchvision.transforms.Resize((img_size, img_size)),\n",
        "    torchvision.transforms.ToTensor(),\n",
        "    torchvision.transforms.Normalize(mean=[0.5], std=[0.5])\n",
        "])\n",
        "\n",
        "images = torchvision.datasets.MNIST(root='./mnist_data', train=True,\n",
        "                                    download=True, transform=transform)\n"
      ]
    },
    {
      "cell_type": "code",
      "execution_count": null,
      "metadata": {
        "id": "7cbC8fi5M-To"
      },
      "outputs": [],
      "source": [
        "BATCH_SIZE = 64\n",
        "dataloader = torch.utils.data.DataLoader(images, batch_size=BATCH_SIZE, shuffle=True)"
      ]
    },
    {
      "cell_type": "code",
      "execution_count": null,
      "metadata": {
        "colab": {
          "base_uri": "https://localhost:8080/"
        },
        "id": "gAkcst9KNIyo",
        "outputId": "6fbcd46a-62eb-4d26-9b65-12b079e976b4"
      },
      "outputs": [
        {
          "data": {
            "text/plain": [
              "[tensor([[[[-1., -1., -1.,  ..., -1., -1., -1.],\n",
              "           [-1., -1., -1.,  ..., -1., -1., -1.],\n",
              "           [-1., -1., -1.,  ..., -1., -1., -1.],\n",
              "           ...,\n",
              "           [-1., -1., -1.,  ..., -1., -1., -1.],\n",
              "           [-1., -1., -1.,  ..., -1., -1., -1.],\n",
              "           [-1., -1., -1.,  ..., -1., -1., -1.]]],\n",
              " \n",
              " \n",
              "         [[[-1., -1., -1.,  ..., -1., -1., -1.],\n",
              "           [-1., -1., -1.,  ..., -1., -1., -1.],\n",
              "           [-1., -1., -1.,  ..., -1., -1., -1.],\n",
              "           ...,\n",
              "           [-1., -1., -1.,  ..., -1., -1., -1.],\n",
              "           [-1., -1., -1.,  ..., -1., -1., -1.],\n",
              "           [-1., -1., -1.,  ..., -1., -1., -1.]]],\n",
              " \n",
              " \n",
              "         [[[-1., -1., -1.,  ..., -1., -1., -1.],\n",
              "           [-1., -1., -1.,  ..., -1., -1., -1.],\n",
              "           [-1., -1., -1.,  ..., -1., -1., -1.],\n",
              "           ...,\n",
              "           [-1., -1., -1.,  ..., -1., -1., -1.],\n",
              "           [-1., -1., -1.,  ..., -1., -1., -1.],\n",
              "           [-1., -1., -1.,  ..., -1., -1., -1.]]],\n",
              " \n",
              " \n",
              "         ...,\n",
              " \n",
              " \n",
              "         [[[-1., -1., -1.,  ..., -1., -1., -1.],\n",
              "           [-1., -1., -1.,  ..., -1., -1., -1.],\n",
              "           [-1., -1., -1.,  ..., -1., -1., -1.],\n",
              "           ...,\n",
              "           [-1., -1., -1.,  ..., -1., -1., -1.],\n",
              "           [-1., -1., -1.,  ..., -1., -1., -1.],\n",
              "           [-1., -1., -1.,  ..., -1., -1., -1.]]],\n",
              " \n",
              " \n",
              "         [[[-1., -1., -1.,  ..., -1., -1., -1.],\n",
              "           [-1., -1., -1.,  ..., -1., -1., -1.],\n",
              "           [-1., -1., -1.,  ..., -1., -1., -1.],\n",
              "           ...,\n",
              "           [-1., -1., -1.,  ..., -1., -1., -1.],\n",
              "           [-1., -1., -1.,  ..., -1., -1., -1.],\n",
              "           [-1., -1., -1.,  ..., -1., -1., -1.]]],\n",
              " \n",
              " \n",
              "         [[[-1., -1., -1.,  ..., -1., -1., -1.],\n",
              "           [-1., -1., -1.,  ..., -1., -1., -1.],\n",
              "           [-1., -1., -1.,  ..., -1., -1., -1.],\n",
              "           ...,\n",
              "           [-1., -1., -1.,  ..., -1., -1., -1.],\n",
              "           [-1., -1., -1.,  ..., -1., -1., -1.],\n",
              "           [-1., -1., -1.,  ..., -1., -1., -1.]]]]),\n",
              " tensor([9, 3, 9, 1, 9, 2, 6, 7, 3, 6, 3, 4, 1, 1, 4, 1, 1, 3, 2, 3, 4, 5, 3, 6,\n",
              "         9, 5, 1, 0, 1, 0, 0, 5, 0, 7, 3, 1, 3, 8, 9, 1, 1, 4, 1, 3, 7, 4, 5, 0,\n",
              "         5, 3, 2, 3, 8, 9, 2, 9, 7, 1, 2, 0, 1, 6, 7, 4])]"
            ]
          },
          "execution_count": 4,
          "metadata": {},
          "output_type": "execute_result"
        }
      ],
      "source": [
        "next(iter(dataloader))"
      ]
    },
    {
      "cell_type": "markdown",
      "metadata": {
        "id": "unKEGfmHNQYX"
      },
      "source": [
        "# 2. Model"
      ]
    },
    {
      "cell_type": "code",
      "execution_count": null,
      "metadata": {
        "id": "szLxxBrINLR0"
      },
      "outputs": [],
      "source": [
        "channels = 1\n",
        "img_shape = (channels, img_size, img_size)\n",
        "latent_dim = 100"
      ]
    },
    {
      "cell_type": "code",
      "execution_count": null,
      "metadata": {
        "id": "q2_2eRMDNZtB"
      },
      "outputs": [],
      "source": [
        "class Generator(nn.Module):\n",
        "    def __init__(self):\n",
        "        super().__init__()\n",
        "        self.model = nn.Sequential(\n",
        "            nn.Linear(latent_dim, 256),\n",
        "            #nn.BatchNorm1d(128),\n",
        "            #nn.LeakyReLU(0.2, inplace=True),\n",
        "            #nn.Linear(128, 256),\n",
        "            nn.BatchNorm1d(256),\n",
        "            nn.LeakyReLU(0.2, inplace=True),\n",
        "\n",
        "            nn.Linear(256, 512),\n",
        "            nn.BatchNorm1d(512),\n",
        "            nn.LeakyReLU(0.2, inplace=True),\n",
        "\n",
        "            nn.Linear(512, 1024),\n",
        "            nn.BatchNorm1d(1024),\n",
        "            nn.LeakyReLU(0.2, inplace=True),\n",
        "\n",
        "            nn.Linear(1024, int(np.prod(img_shape))),\n",
        "            nn.Tanh()\n",
        "        )\n",
        "\n",
        "    def forward(self, x):\n",
        "        img = self.model(x)\n",
        "        img = img.view(img.size(0), *img_shape)\n",
        "        return img"
      ]
    },
    {
      "cell_type": "code",
      "execution_count": null,
      "metadata": {
        "id": "6SM-dKEuPplP"
      },
      "outputs": [],
      "source": [
        "class Discriminator(nn.Module):\n",
        "    def __init__(self):\n",
        "        super().__init__()\n",
        "        self.model = nn.Sequential(\n",
        "            nn.Linear(int(np.prod(img_shape)), 512),\n",
        "            nn.LeakyReLU(0.2, inplace=True),\n",
        "\n",
        "            nn.Linear(512, 256),\n",
        "            nn.LeakyReLU(0.2, inplace=True),\n",
        "\n",
        "            nn.Linear(256, 1),\n",
        "            nn.Sigmoid()\n",
        "        )\n",
        "\n",
        "    def forward(self, img):\n",
        "        x = img.view(img.size(0), -1)\n",
        "        x = self.model(x)\n",
        "        return x\n"
      ]
    },
    {
      "cell_type": "code",
      "execution_count": null,
      "metadata": {
        "id": "eX3dljE_QXc5"
      },
      "outputs": [],
      "source": [
        "generator = Generator().to(device)\n",
        "discriminator = Discriminator().to(device)"
      ]
    },
    {
      "cell_type": "markdown",
      "metadata": {
        "id": "onHDiTyAQ1FJ"
      },
      "source": [
        "# 3. Training\n"
      ]
    },
    {
      "cell_type": "code",
      "execution_count": null,
      "metadata": {
        "id": "gki9gX9EQqoQ"
      },
      "outputs": [],
      "source": [
        "import os\n",
        "os.makedirs(\"images\", exist_ok=True)\n",
        "\n",
        "save_interval = 10"
      ]
    },
    {
      "cell_type": "code",
      "execution_count": null,
      "metadata": {
        "colab": {
          "background_save": true,
          "base_uri": "https://localhost:8080/"
        },
        "id": "B7VIo7lvQ9AB",
        "outputId": "6f088b17-a9ac-4090-825f-45b0159e5ae5"
      },
      "outputs": [
        {
          "name": "stdout",
          "output_type": "stream",
          "text": [
            "Epoch [1/200], Train G Loss: 9.2706, Train D Loss: 0.0501\n",
            "Epoch [2/200], Train G Loss: 7.1514, Train D Loss: 0.0589\n",
            "Epoch [3/200], Train G Loss: 6.8083, Train D Loss: 0.0360\n",
            "Epoch [4/200], Train G Loss: 6.9454, Train D Loss: 0.0539\n",
            "Epoch [5/200], Train G Loss: 6.8472, Train D Loss: 0.0626\n",
            "Epoch [6/200], Train G Loss: 6.7131, Train D Loss: 0.0722\n",
            "Epoch [7/200], Train G Loss: 6.0395, Train D Loss: 0.1042\n",
            "Epoch [8/200], Train G Loss: 5.7264, Train D Loss: 0.1021\n",
            "Epoch [9/200], Train G Loss: 5.8611, Train D Loss: 0.0998\n",
            "Epoch [10/200], Train G Loss: 5.7438, Train D Loss: 0.1088\n",
            "Epoch [11/200], Train G Loss: 5.3954, Train D Loss: 0.1159\n",
            "Epoch [12/200], Train G Loss: 5.2642, Train D Loss: 0.1328\n",
            "Epoch [13/200], Train G Loss: 4.7555, Train D Loss: 0.1529\n",
            "Epoch [14/200], Train G Loss: 4.6534, Train D Loss: 0.1568\n",
            "Epoch [15/200], Train G Loss: 4.2824, Train D Loss: 0.1653\n",
            "Epoch [16/200], Train G Loss: 4.3738, Train D Loss: 0.1807\n",
            "Epoch [17/200], Train G Loss: 4.0368, Train D Loss: 0.1953\n",
            "Epoch [18/200], Train G Loss: 3.9708, Train D Loss: 0.2045\n",
            "Epoch [19/200], Train G Loss: 3.8769, Train D Loss: 0.2142\n",
            "Epoch [20/200], Train G Loss: 3.6342, Train D Loss: 0.2385\n",
            "Epoch [21/200], Train G Loss: 3.4935, Train D Loss: 0.2435\n",
            "Epoch [22/200], Train G Loss: 3.2892, Train D Loss: 0.2631\n",
            "Epoch [23/200], Train G Loss: 3.2614, Train D Loss: 0.2595\n",
            "Epoch [24/200], Train G Loss: 3.1299, Train D Loss: 0.2717\n",
            "Epoch [25/200], Train G Loss: 3.2217, Train D Loss: 0.2770\n",
            "Epoch [26/200], Train G Loss: 3.1573, Train D Loss: 0.2857\n",
            "Epoch [27/200], Train G Loss: 3.1761, Train D Loss: 0.2684\n",
            "Epoch [28/200], Train G Loss: 2.9091, Train D Loss: 0.2961\n",
            "Epoch [29/200], Train G Loss: 2.9179, Train D Loss: 0.2939\n",
            "Epoch [30/200], Train G Loss: 2.8304, Train D Loss: 0.3057\n",
            "Epoch [31/200], Train G Loss: 2.7441, Train D Loss: 0.3115\n",
            "Epoch [32/200], Train G Loss: 2.6255, Train D Loss: 0.3191\n",
            "Epoch [33/200], Train G Loss: 2.6681, Train D Loss: 0.3107\n",
            "Epoch [34/200], Train G Loss: 2.6528, Train D Loss: 0.3107\n",
            "Epoch [35/200], Train G Loss: 2.5402, Train D Loss: 0.3295\n",
            "Epoch [36/200], Train G Loss: 2.5245, Train D Loss: 0.3291\n",
            "Epoch [37/200], Train G Loss: 2.3759, Train D Loss: 0.3374\n",
            "Epoch [38/200], Train G Loss: 2.3822, Train D Loss: 0.3342\n",
            "Epoch [39/200], Train G Loss: 2.4135, Train D Loss: 0.3405\n",
            "Epoch [40/200], Train G Loss: 2.2533, Train D Loss: 0.3618\n",
            "Epoch [41/200], Train G Loss: 2.2663, Train D Loss: 0.3467\n",
            "Epoch [42/200], Train G Loss: 2.3061, Train D Loss: 0.3548\n",
            "Epoch [43/200], Train G Loss: 2.1827, Train D Loss: 0.3635\n",
            "Epoch [44/200], Train G Loss: 2.2292, Train D Loss: 0.3535\n",
            "Epoch [45/200], Train G Loss: 2.1867, Train D Loss: 0.3676\n",
            "Epoch [46/200], Train G Loss: 2.1824, Train D Loss: 0.3692\n",
            "Epoch [47/200], Train G Loss: 2.1637, Train D Loss: 0.3692\n",
            "Epoch [48/200], Train G Loss: 2.1671, Train D Loss: 0.3750\n",
            "Epoch [49/200], Train G Loss: 2.1300, Train D Loss: 0.3811\n",
            "Epoch [50/200], Train G Loss: 2.0712, Train D Loss: 0.3871\n",
            "Epoch [51/200], Train G Loss: 2.0407, Train D Loss: 0.3958\n",
            "Epoch [52/200], Train G Loss: 2.0608, Train D Loss: 0.3921\n",
            "Epoch [53/200], Train G Loss: 2.0782, Train D Loss: 0.3885\n",
            "Epoch [54/200], Train G Loss: 2.0719, Train D Loss: 0.3916\n",
            "Epoch [55/200], Train G Loss: 2.0625, Train D Loss: 0.3928\n",
            "Epoch [56/200], Train G Loss: 1.9945, Train D Loss: 0.3984\n",
            "Epoch [57/200], Train G Loss: 1.9727, Train D Loss: 0.3917\n",
            "Epoch [58/200], Train G Loss: 1.9973, Train D Loss: 0.3978\n",
            "Epoch [59/200], Train G Loss: 2.0680, Train D Loss: 0.3862\n",
            "Epoch [60/200], Train G Loss: 1.9325, Train D Loss: 0.4127\n",
            "Epoch [61/200], Train G Loss: 1.9465, Train D Loss: 0.4100\n",
            "Epoch [62/200], Train G Loss: 2.0007, Train D Loss: 0.3971\n",
            "Epoch [63/200], Train G Loss: 1.9682, Train D Loss: 0.4070\n",
            "Epoch [64/200], Train G Loss: 1.9394, Train D Loss: 0.4068\n",
            "Epoch [65/200], Train G Loss: 1.9891, Train D Loss: 0.3846\n",
            "Epoch [66/200], Train G Loss: 1.9477, Train D Loss: 0.4130\n",
            "Epoch [67/200], Train G Loss: 1.9881, Train D Loss: 0.3929\n",
            "Epoch [68/200], Train G Loss: 1.9331, Train D Loss: 0.4097\n",
            "Epoch [69/200], Train G Loss: 1.9409, Train D Loss: 0.3936\n",
            "Epoch [70/200], Train G Loss: 1.9686, Train D Loss: 0.3944\n",
            "Epoch [71/200], Train G Loss: 1.9654, Train D Loss: 0.4059\n",
            "Epoch [72/200], Train G Loss: 1.9586, Train D Loss: 0.3956\n",
            "Epoch [73/200], Train G Loss: 1.9559, Train D Loss: 0.4012\n",
            "Epoch [74/200], Train G Loss: 1.9627, Train D Loss: 0.4059\n",
            "Epoch [75/200], Train G Loss: 1.9765, Train D Loss: 0.3889\n",
            "Epoch [76/200], Train G Loss: 2.0097, Train D Loss: 0.4007\n",
            "Epoch [77/200], Train G Loss: 2.0091, Train D Loss: 0.4008\n",
            "Epoch [78/200], Train G Loss: 2.0039, Train D Loss: 0.4015\n",
            "Epoch [79/200], Train G Loss: 1.9862, Train D Loss: 0.3908\n",
            "Epoch [80/200], Train G Loss: 1.9860, Train D Loss: 0.4012\n",
            "Epoch [81/200], Train G Loss: 1.9912, Train D Loss: 0.4078\n",
            "Epoch [82/200], Train G Loss: 1.9722, Train D Loss: 0.3998\n",
            "Epoch [83/200], Train G Loss: 1.9503, Train D Loss: 0.3978\n",
            "Epoch [84/200], Train G Loss: 2.0009, Train D Loss: 0.4155\n",
            "Epoch [85/200], Train G Loss: 1.9870, Train D Loss: 0.4053\n",
            "Epoch [86/200], Train G Loss: 1.9543, Train D Loss: 0.4116\n",
            "Epoch [87/200], Train G Loss: 2.0019, Train D Loss: 0.3897\n",
            "Epoch [88/200], Train G Loss: 1.9942, Train D Loss: 0.3926\n",
            "Epoch [89/200], Train G Loss: 2.0082, Train D Loss: 0.3951\n",
            "Epoch [90/200], Train G Loss: 2.0336, Train D Loss: 0.3934\n",
            "Epoch [91/200], Train G Loss: 2.0103, Train D Loss: 0.3945\n",
            "Epoch [92/200], Train G Loss: 2.0232, Train D Loss: 0.3801\n",
            "Epoch [93/200], Train G Loss: 2.0532, Train D Loss: 0.3944\n",
            "Epoch [94/200], Train G Loss: 2.0463, Train D Loss: 0.3905\n",
            "Epoch [95/200], Train G Loss: 2.0954, Train D Loss: 0.3694\n",
            "Epoch [96/200], Train G Loss: 2.0971, Train D Loss: 0.3941\n",
            "Epoch [97/200], Train G Loss: 2.1157, Train D Loss: 0.4057\n",
            "Epoch [98/200], Train G Loss: 2.0659, Train D Loss: 0.3953\n",
            "Epoch [99/200], Train G Loss: 2.0858, Train D Loss: 0.3786\n",
            "Epoch [100/200], Train G Loss: 2.0633, Train D Loss: 0.3795\n",
            "Epoch [101/200], Train G Loss: 2.0871, Train D Loss: 0.3730\n",
            "Epoch [102/200], Train G Loss: 2.1294, Train D Loss: 0.3781\n",
            "Epoch [103/200], Train G Loss: 2.1426, Train D Loss: 0.3683\n",
            "Epoch [104/200], Train G Loss: 2.1550, Train D Loss: 0.3668\n",
            "Epoch [105/200], Train G Loss: 2.1822, Train D Loss: 0.3560\n",
            "Epoch [106/200], Train G Loss: 2.2040, Train D Loss: 0.3621\n",
            "Epoch [107/200], Train G Loss: 2.2043, Train D Loss: 0.3573\n",
            "Epoch [108/200], Train G Loss: 2.2475, Train D Loss: 0.3505\n",
            "Epoch [109/200], Train G Loss: 2.2728, Train D Loss: 0.3518\n",
            "Epoch [110/200], Train G Loss: 2.2991, Train D Loss: 0.3440\n",
            "Epoch [111/200], Train G Loss: 2.2980, Train D Loss: 0.3518\n",
            "Epoch [112/200], Train G Loss: 2.3070, Train D Loss: 0.3451\n",
            "Epoch [113/200], Train G Loss: 2.3049, Train D Loss: 0.3391\n",
            "Epoch [114/200], Train G Loss: 2.3326, Train D Loss: 0.3343\n",
            "Epoch [115/200], Train G Loss: 2.3647, Train D Loss: 0.3437\n",
            "Epoch [116/200], Train G Loss: 2.4025, Train D Loss: 0.3377\n",
            "Epoch [117/200], Train G Loss: 2.3908, Train D Loss: 0.3344\n",
            "Epoch [118/200], Train G Loss: 2.3976, Train D Loss: 0.3386\n",
            "Epoch [119/200], Train G Loss: 2.4240, Train D Loss: 0.3166\n",
            "Epoch [120/200], Train G Loss: 2.4669, Train D Loss: 0.3227\n",
            "Epoch [121/200], Train G Loss: 2.5056, Train D Loss: 0.3193\n",
            "Epoch [122/200], Train G Loss: 2.5108, Train D Loss: 0.3189\n",
            "Epoch [123/200], Train G Loss: 2.5352, Train D Loss: 0.3148\n",
            "Epoch [124/200], Train G Loss: 2.5825, Train D Loss: 0.3142\n",
            "Epoch [125/200], Train G Loss: 2.5426, Train D Loss: 0.3087\n",
            "Epoch [126/200], Train G Loss: 2.6035, Train D Loss: 0.3018\n",
            "Epoch [127/200], Train G Loss: 2.6038, Train D Loss: 0.2999\n",
            "Epoch [128/200], Train G Loss: 2.6339, Train D Loss: 0.3218\n",
            "Epoch [129/200], Train G Loss: 2.6133, Train D Loss: 0.3016\n",
            "Epoch [130/200], Train G Loss: 2.6652, Train D Loss: 0.3095\n",
            "Epoch [131/200], Train G Loss: 2.6307, Train D Loss: 0.3095\n",
            "Epoch [132/200], Train G Loss: 2.6215, Train D Loss: 0.2946\n",
            "Epoch [133/200], Train G Loss: 2.6928, Train D Loss: 0.3071\n",
            "Epoch [134/200], Train G Loss: 2.6810, Train D Loss: 0.3002\n",
            "Epoch [135/200], Train G Loss: 2.6950, Train D Loss: 0.3046\n",
            "Epoch [136/200], Train G Loss: 2.6930, Train D Loss: 0.3090\n",
            "Epoch [137/200], Train G Loss: 2.6990, Train D Loss: 0.2899\n",
            "Epoch [138/200], Train G Loss: 2.7228, Train D Loss: 0.2832\n",
            "Epoch [139/200], Train G Loss: 2.7836, Train D Loss: 0.2880\n",
            "Epoch [140/200], Train G Loss: 2.7979, Train D Loss: 0.2772\n",
            "Epoch [141/200], Train G Loss: 2.8214, Train D Loss: 0.2726\n",
            "Epoch [142/200], Train G Loss: 2.8521, Train D Loss: 0.2807\n",
            "Epoch [143/200], Train G Loss: 2.8809, Train D Loss: 0.2762\n",
            "Epoch [144/200], Train G Loss: 2.8627, Train D Loss: 0.2731\n",
            "Epoch [145/200], Train G Loss: 2.8950, Train D Loss: 0.2816\n",
            "Epoch [146/200], Train G Loss: 2.9168, Train D Loss: 0.2807\n",
            "Epoch [147/200], Train G Loss: 2.8796, Train D Loss: 0.2746\n",
            "Epoch [148/200], Train G Loss: 2.9435, Train D Loss: 0.2723\n",
            "Epoch [149/200], Train G Loss: 2.9818, Train D Loss: 0.2733\n",
            "Epoch [150/200], Train G Loss: 2.9181, Train D Loss: 0.2892\n",
            "Epoch [151/200], Train G Loss: 2.9786, Train D Loss: 0.2690\n",
            "Epoch [152/200], Train G Loss: 2.9525, Train D Loss: 0.2659\n",
            "Epoch [153/200], Train G Loss: 2.9430, Train D Loss: 0.2551\n",
            "Epoch [154/200], Train G Loss: 3.0033, Train D Loss: 0.2546\n",
            "Epoch [155/200], Train G Loss: 3.0535, Train D Loss: 0.2545\n",
            "Epoch [156/200], Train G Loss: 3.0126, Train D Loss: 0.2649\n",
            "Epoch [157/200], Train G Loss: 2.9997, Train D Loss: 0.2546\n",
            "Epoch [158/200], Train G Loss: 3.0165, Train D Loss: 0.2422\n",
            "Epoch [159/200], Train G Loss: 2.9812, Train D Loss: 0.2655\n",
            "Epoch [160/200], Train G Loss: 3.0679, Train D Loss: 0.2718\n",
            "Epoch [161/200], Train G Loss: 3.0727, Train D Loss: 0.2633\n",
            "Epoch [162/200], Train G Loss: 3.0516, Train D Loss: 0.2557\n",
            "Epoch [163/200], Train G Loss: 3.1118, Train D Loss: 0.2436\n",
            "Epoch [164/200], Train G Loss: 3.0958, Train D Loss: 0.2471\n",
            "Epoch [165/200], Train G Loss: 3.1064, Train D Loss: 0.2509\n",
            "Epoch [166/200], Train G Loss: 3.1260, Train D Loss: 0.2748\n",
            "Epoch [167/200], Train G Loss: 3.0499, Train D Loss: 0.2449\n",
            "Epoch [168/200], Train G Loss: 3.1154, Train D Loss: 0.2547\n",
            "Epoch [169/200], Train G Loss: 3.1084, Train D Loss: 0.2491\n",
            "Epoch [170/200], Train G Loss: 3.0798, Train D Loss: 0.2541\n",
            "Epoch [171/200], Train G Loss: 3.0818, Train D Loss: 0.2381\n",
            "Epoch [172/200], Train G Loss: 3.1499, Train D Loss: 0.2482\n",
            "Epoch [173/200], Train G Loss: 3.1262, Train D Loss: 0.2528\n",
            "Epoch [174/200], Train G Loss: 3.1266, Train D Loss: 0.2369\n",
            "Epoch [175/200], Train G Loss: 3.1870, Train D Loss: 0.2611\n",
            "Epoch [176/200], Train G Loss: 3.1348, Train D Loss: 0.2681\n",
            "Epoch [177/200], Train G Loss: 3.1316, Train D Loss: 0.2485\n",
            "Epoch [178/200], Train G Loss: 3.1723, Train D Loss: 0.2434\n",
            "Epoch [179/200], Train G Loss: 3.1676, Train D Loss: 0.2540\n",
            "Epoch [180/200], Train G Loss: 3.1303, Train D Loss: 0.2398\n",
            "Epoch [181/200], Train G Loss: 3.1947, Train D Loss: 0.2587\n",
            "Epoch [182/200], Train G Loss: 3.2130, Train D Loss: 0.2517\n",
            "Epoch [183/200], Train G Loss: 3.1877, Train D Loss: 0.2451\n",
            "Epoch [184/200], Train G Loss: 3.1630, Train D Loss: 0.2455\n",
            "Epoch [185/200], Train G Loss: 3.1962, Train D Loss: 0.2257\n",
            "Epoch [186/200], Train G Loss: 3.2476, Train D Loss: 0.2346\n",
            "Epoch [187/200], Train G Loss: 3.2165, Train D Loss: 0.2561\n",
            "Epoch [188/200], Train G Loss: 3.1693, Train D Loss: 0.2313\n",
            "Epoch [189/200], Train G Loss: 3.1720, Train D Loss: 0.2359\n",
            "Epoch [190/200], Train G Loss: 3.1882, Train D Loss: 0.2351\n",
            "Epoch [191/200], Train G Loss: 3.1899, Train D Loss: 0.2309\n",
            "Epoch [192/200], Train G Loss: 3.2013, Train D Loss: 0.2407\n",
            "Epoch [193/200], Train G Loss: 3.2285, Train D Loss: 0.2328\n",
            "Epoch [194/200], Train G Loss: 3.2079, Train D Loss: 0.2378\n",
            "Epoch [195/200], Train G Loss: 3.2658, Train D Loss: 0.2206\n",
            "Epoch [196/200], Train G Loss: 3.2477, Train D Loss: 0.2265\n",
            "Epoch [197/200], Train G Loss: 3.2009, Train D Loss: 0.2382\n",
            "Epoch [198/200], Train G Loss: 3.2197, Train D Loss: 0.2270\n",
            "Epoch [199/200], Train G Loss: 3.2419, Train D Loss: 0.2427\n",
            "Epoch [200/200], Train G Loss: 3.1978, Train D Loss: 0.2217\n"
          ]
        }
      ],
      "source": [
        "EPOCHS = 200\n",
        "\n",
        "optimizer_G = torch.optim.Adam(generator.parameters(), lr=0.0001)\n",
        "optimizer_D = torch.optim.Adam(discriminator.parameters(), lr=0.0002)\n",
        "\n",
        "criterion = nn.BCELoss()\n",
        "\n",
        "hist = {\n",
        "    \"train_G_loss\":[],\n",
        "    \"train_D_loss\":[]\n",
        "}\n",
        "\n",
        "for epoch in range(EPOCHS):\n",
        "    running_G_loss = 0.0\n",
        "    running_D_loss = 0.0\n",
        "\n",
        "    for i, (imgs, _) in enumerate(dataloader):\n",
        "\n",
        "        real_imgs = imgs.to(device)\n",
        "        real_labels = torch.ones(imgs.shape[0], 1).to(device)\n",
        "        fake_labels = torch.zeros(imgs.shape[0], 1).to(device)\n",
        "\n",
        "        #----Train Generator----\n",
        "        optimizer_G.zero_grad()\n",
        "\n",
        "        # Noise input for Generator\n",
        "        z = torch.randn((imgs.shape[0], latent_dim)).to(device)\n",
        "\n",
        "        gen_imgs = generator(z)\n",
        "        G_loss = criterion(discriminator(gen_imgs), real_labels)\n",
        "        running_G_loss += G_loss.item()\n",
        "\n",
        "        G_loss.backward()\n",
        "        optimizer_G.step()\n",
        "\n",
        "        #----Train Discriminator----\n",
        "        optimizer_D.zero_grad()\n",
        "        real_loss = criterion(discriminator(real_imgs), real_labels)\n",
        "        fake_loss = criterion(discriminator(gen_imgs.detach()), fake_labels)\n",
        "        # detach for creating a copy, and do not update gradients of G\n",
        "        D_loss = (real_loss + fake_loss) / 2\n",
        "        running_D_loss += D_loss.item()\n",
        "\n",
        "        D_loss.backward()\n",
        "        optimizer_D.step()\n",
        "\n",
        "    epoch_G_loss = running_G_loss / len(dataloader)\n",
        "    epoch_D_loss = running_D_loss / len(dataloader)\n",
        "\n",
        "    print(f\"Epoch [{epoch + 1}/{EPOCHS}], Train G Loss: {epoch_G_loss:.4f}, Train D Loss: {epoch_D_loss:.4f}\")\n",
        "\n",
        "    hist[\"train_G_loss\"].append(epoch_G_loss)\n",
        "    hist[\"train_D_loss\"].append(epoch_D_loss)\n",
        "\n",
        "    if epoch % save_interval == 0:\n",
        "        save_image(gen_imgs.data[:25], f\"images/epoch_{epoch}.png\", nrow=5, normalize=True)"
      ]
    },
    {
      "cell_type": "markdown",
      "metadata": {
        "id": "7TKg1a1djjWM"
      },
      "source": [
        "# 4. Testing"
      ]
    },
    {
      "cell_type": "code",
      "execution_count": null,
      "metadata": {
        "colab": {
          "background_save": true
        },
        "id": "KPtOOuYtj2LI"
      },
      "outputs": [],
      "source": [
        "from PIL import Image"
      ]
    },
    {
      "cell_type": "code",
      "execution_count": null,
      "metadata": {
        "colab": {
          "background_save": true
        },
        "id": "nUZyGnr9Tz-k"
      },
      "outputs": [],
      "source": [
        "input = torch.randn(3, latent_dim)"
      ]
    },
    {
      "cell_type": "code",
      "execution_count": null,
      "metadata": {
        "colab": {
          "background_save": true
        },
        "id": "dVIxoa4WjsZG"
      },
      "outputs": [],
      "source": [
        "with torch.no_grad():\n",
        "    imgs = generator(input.to(device))"
      ]
    },
    {
      "cell_type": "code",
      "execution_count": null,
      "metadata": {
        "colab": {
          "background_save": true
        },
        "id": "Bc85KET2kOyA",
        "outputId": "5d676d21-df4e-4dde-c1c7-506966dc4f83"
      },
      "outputs": [
        {
          "data": {
            "text/plain": [
              "tensor([[[[-0.9998, -0.9983, -0.9999,  ..., -0.9998, -0.9999, -0.9994],\n",
              "          [-0.9997, -0.9990, -0.9982,  ..., -0.9991, -0.9990, -0.9994],\n",
              "          [-0.9998, -0.9999, -0.9998,  ..., -0.9990, -0.9981, -0.9997],\n",
              "          ...,\n",
              "          [-0.9998, -0.9947, -0.9994,  ..., -0.9999, -0.9994, -0.9997],\n",
              "          [-0.9999, -0.9998, -0.9984,  ..., -0.9989, -0.9987, -0.9991],\n",
              "          [-0.9999, -0.9991, -0.9990,  ..., -0.9983, -0.9993, -0.9981]]],\n",
              "\n",
              "\n",
              "        [[[-0.9983, -0.9996, -0.9996,  ..., -0.9988, -0.9996, -0.9984],\n",
              "          [-0.9999, -0.9994, -0.9990,  ..., -0.9990, -0.9998, -0.9977],\n",
              "          [-0.9998, -0.9995, -0.9952,  ..., -0.9992, -0.9996, -0.9998],\n",
              "          ...,\n",
              "          [-0.9991, -0.9984, -0.9999,  ..., -0.9990, -0.9988, -0.9992],\n",
              "          [-0.9998, -0.9993, -0.9997,  ..., -0.9979, -0.9986, -0.9996],\n",
              "          [-0.9991, -0.9984, -0.9978,  ..., -0.9999, -0.9996, -0.9998]]],\n",
              "\n",
              "\n",
              "        [[[-1.0000, -1.0000, -0.9998,  ..., -0.9999, -0.9999, -1.0000],\n",
              "          [-1.0000, -1.0000, -1.0000,  ..., -1.0000, -0.9999, -1.0000],\n",
              "          [-0.9990, -0.9999, -1.0000,  ..., -1.0000, -1.0000, -1.0000],\n",
              "          ...,\n",
              "          [-1.0000, -1.0000, -0.9999,  ..., -1.0000, -1.0000, -0.9999],\n",
              "          [-0.9999, -0.9999, -1.0000,  ..., -1.0000, -1.0000, -1.0000],\n",
              "          [-0.9999, -1.0000, -1.0000,  ..., -1.0000, -0.9999, -0.9999]]]],\n",
              "       device='cuda:0')"
            ]
          },
          "execution_count": 30,
          "metadata": {},
          "output_type": "execute_result"
        }
      ],
      "source": [
        "imgs"
      ]
    },
    {
      "cell_type": "code",
      "execution_count": null,
      "metadata": {
        "colab": {
          "background_save": true
        },
        "id": "IyPlPBfjkYxJ",
        "outputId": "d46c6b65-afc6-48d5-e6fc-4fadc74eb14a"
      },
      "outputs": [
        {
          "data": {
            "image/png": "[encoded data removed]",
            "text/plain": [
              "<Figure size 640x480 with 1 Axes>"
            ]
          },
          "metadata": {},
          "output_type": "display_data"
        }
      ],
      "source": [
        "import matplotlib.pyplot as plt\n",
        "image_tensor = ((imgs[0] + 1) / 2).cpu()\n",
        "\n",
        "\n",
        "plt.imshow(image_tensor.permute(1, 2, 0).detach().numpy())\n",
        "plt.show()"
      ]
    },
    {
      "cell_type": "code",
      "execution_count": null,
      "metadata": {
        "id": "cK7Xly42k19E"
      },
      "outputs": [],
      "source": []
    }
  ],
  "metadata": {
    "accelerator": "GPU",
    "colab": {
      "gpuType": "T4",
      "provenance": [],
      "authorship_tag": "ABX9TyNH9g9xKpKRn69A227/IPRU"
    },
    "kernelspec": {
      "display_name": "Python 3",
      "name": "python3"
    },
    "language_info": {
      "name": "python"
    }
  },
  "nbformat": 4,
  "nbformat_minor": 0
}